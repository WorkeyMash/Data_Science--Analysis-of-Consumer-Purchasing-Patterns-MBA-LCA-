{
  "cells": [
    {
      "cell_type": "markdown",
      "metadata": {
        "id": "v9wxdwxZx2Ko"
      },
      "source": [
        "**Section A: Data Preparation**"
      ]
    },
    {
      "cell_type": "markdown",
      "metadata": {
        "id": "3o-oRXPox8ju"
      },
      "source": [
        "*1. Load the dataset, Clean the dataset and Save to CSV for analysis*"
      ]
    },
    {
      "cell_type": "code",
      "execution_count": 15,
      "metadata": {
        "colab": {
          "base_uri": "https://localhost:8080/",
          "height": 0
        },
        "id": "PSTuOvWrZSm3",
        "outputId": "5e02799b-3343-48d2-ecd8-5dce3ee31fa4"
      },
      "outputs": [
        {
          "output_type": "stream",
          "name": "stdout",
          "text": [
            "  CustomerID  citrus fruit  semi-finished bread  tropical fruit  meat spreads  \\\n",
            "0     CUST01             0                    1               1             0   \n",
            "1     CUST02             0                    1               0             0   \n",
            "2     CUST03             0                    0               0             1   \n",
            "3     CUST04             0                    0               1             0   \n",
            "4     CUST05             0                    0               0             0   \n",
            "\n",
            "   root vegetables  frozen dessert  margarine  ready soups  sweet spreads  \\\n",
            "0                0               0          0            0              0   \n",
            "1                0               0          0            0              0   \n",
            "2                0               1          1            0              0   \n",
            "3                0               0          0            1              0   \n",
            "4                0               0          0            0              0   \n",
            "\n",
            "   salty snack  waffles  \n",
            "0            0        0  \n",
            "1            0        0  \n",
            "2            0        0  \n",
            "3            0        0  \n",
            "4            0        0  \n"
          ]
        },
        {
          "output_type": "stream",
          "name": "stderr",
          "text": [
            "<ipython-input-15-dddcc82076ad>:18: FutureWarning: Downcasting behavior in `replace` is deprecated and will be removed in a future version. To retain the old behavior, explicitly call `result.infer_objects(copy=False)`. To opt-in to the future behavior, set `pd.set_option('future.no_silent_downcasting', True)`\n",
            "  df_clean.replace({\"T\": 1, \"F\": 0}, inplace=True)\n",
            "<ipython-input-15-dddcc82076ad>:18: SettingWithCopyWarning: \n",
            "A value is trying to be set on a copy of a slice from a DataFrame\n",
            "\n",
            "See the caveats in the documentation: https://pandas.pydata.org/pandas-docs/stable/user_guide/indexing.html#returning-a-view-versus-a-copy\n",
            "  df_clean.replace({\"T\": 1, \"F\": 0}, inplace=True)\n",
            "<ipython-input-15-dddcc82076ad>:24: SettingWithCopyWarning: \n",
            "A value is trying to be set on a copy of a slice from a DataFrame.\n",
            "Try using .loc[row_indexer,col_indexer] = value instead\n",
            "\n",
            "See the caveats in the documentation: https://pandas.pydata.org/pandas-docs/stable/user_guide/indexing.html#returning-a-view-versus-a-copy\n",
            "  df_clean[columns_to_convert] = df_clean[columns_to_convert].replace({\"T\": 1, \"F\": 0})\n"
          ]
        }
      ],
      "source": [
        "import pandas as pd\n",
        "\n",
        "# Load the Excel dataset\n",
        "file_path = '/content/Market Basket Analysis Data For Students 2025 (1).xlsx'  # Replace with your actual filename\n",
        "df = pd.read_excel(file_path)\n",
        "\n",
        "# Assign column names for clarity\n",
        "# Removed the line that caused the error: df.columns = columns\n",
        "\n",
        "# Define the list of product columns you want to keep\n",
        "product_cols = ['citrus fruit','semi-finished bread','tropical fruit','meat spreads','root vegetables', 'frozen dessert','margarine', 'ready soups', 'sweet spreads', 'salty snack', 'waffles']\n",
        "# Keep only 'CustomerID' and the specified product columns\n",
        "# This selects the desired columns and implicitly uses their original names.\n",
        "# If you needed to rename them, you would do it after selecting them.\n",
        "df_clean = df[['CustomerID'] + product_cols]\n",
        "\n",
        "# Replace \"T\" with 1 and \"F\" with 0 in the entire DataFrame\n",
        "df_clean.replace({\"T\": 1, \"F\": 0}, inplace=True)\n",
        "\n",
        "\n",
        "columns_to_convert = [\"citrus fruit\", \"semi-finished bread\", \"tropical fruit\", \"meat spreads\",\n",
        "                      \"root vegetables\", \"frozen dessert\", \"margarine\", \"ready soups\",\n",
        "                      \"sweet spreads\", \"salty snack\", \"waffles\"]\n",
        "df_clean[columns_to_convert] = df_clean[columns_to_convert].replace({\"T\": 1, \"F\": 0})\n",
        "\n",
        "\n",
        "\n",
        "# Save to CSV for analysis\n",
        "df_clean.to_csv('cleaned_grocery_data.csv', index=False)\n",
        "\n",
        "# View the first few rows of the cleaned DataFrame\n",
        "print(df_clean.head()) # Changed to print df_clean to see the result of the cleaning\n",
        "\n",
        "# The subsequent code to find product_columns dynamically is redundant after\n",
        "# defining product_cols explicitly above, but can be kept if needed for other purposes.\n",
        "# product_columns = [col for col in df.columns if col != 'CustomerID']\n",
        "# df_clean = df[['CustomerID'] + product_columns] # This line would overwrite the previous df_clean"
      ]
    },
    {
      "cell_type": "markdown",
      "metadata": {
        "id": "DclTLel_hr_7"
      },
      "source": [
        "**Section B: Association Rule Analysis**"
      ]
    },
    {
      "cell_type": "markdown",
      "metadata": {
        "id": "WZB1782piaoq"
      },
      "source": [
        "*1. Generate association rules*"
      ]
    },
    {
      "cell_type": "code",
      "execution_count": 16,
      "metadata": {
        "colab": {
          "base_uri": "https://localhost:8080/",
          "height": 0
        },
        "id": "IF_kcWs4nP7I",
        "outputId": "1722102b-25f2-4c1f-c819-81f504cbbb0e"
      },
      "outputs": [
        {
          "output_type": "stream",
          "name": "stdout",
          "text": [
            "                       antecedents       consequents  antecedent support  \\\n",
            "14       (margarine, meat spreads)  (frozen dessert)            0.105098   \n",
            "13  (frozen dessert, meat spreads)       (margarine)            0.108874   \n",
            "12     (frozen dessert, margarine)    (meat spreads)            0.110132   \n",
            "5                   (meat spreads)  (frozen dessert)            0.191315   \n",
            "7                   (meat spreads)       (margarine)            0.191315   \n",
            "\n",
            "    consequent support   support  confidence      lift  representativity  \\\n",
            "14            0.232222  0.091882    0.874251  3.764731               1.0   \n",
            "13            0.207048  0.091882    0.843931  4.076005               1.0   \n",
            "12            0.191315  0.091882    0.834286  4.360789               1.0   \n",
            "5             0.232222  0.108874    0.569079  2.450587               1.0   \n",
            "7             0.207048  0.105098    0.549342  2.653205               1.0   \n",
            "\n",
            "    leverage  conviction  zhangs_metric   jaccard  certainty  kulczynski  \n",
            "14  0.067476    6.105667       0.820622  0.374359   0.836218    0.634958  \n",
            "13  0.069340    5.080764       0.846863  0.410112   0.803179    0.643850  \n",
            "12  0.070812    4.879994       0.866065  0.438438   0.795082    0.657274  \n",
            "5   0.064446    1.781715       0.731972  0.346000   0.438743    0.518957  \n",
            "7   0.065486    1.759542       0.770507  0.358369   0.431670    0.528470  \n"
          ]
        },
        {
          "output_type": "stream",
          "name": "stderr",
          "text": [
            "/usr/local/lib/python3.11/dist-packages/mlxtend/frequent_patterns/fpcommon.py:161: DeprecationWarning: DataFrames with non-bool types result in worse computationalperformance and their support might be discontinued in the future.Please use a DataFrame with bool type\n",
            "  warnings.warn(\n"
          ]
        }
      ],
      "source": [
        "from mlxtend.frequent_patterns import apriori, association_rules\n",
        "import pandas as pd # Import pandas again in this cell\n",
        "\n",
        "# Load the cleaned dataset\n",
        "df = pd.read_csv('/content/cleaned_grocery_data.csv')\n",
        "\n",
        "# Define product_columns again as it was defined in the previous cell and might not be available here\n",
        "# Alternatively, ensure product_columns is defined before this cell runs\n",
        "product_columns = ['citrus fruit','semi-finished bread','tropical fruit','meat spreads','root vegetables', 'frozen dessert','margarine', 'ready soups', 'sweet spreads', 'salty snack', 'waffles']\n",
        "\n",
        "\n",
        "# Generate frequent itemsets\n",
        "# Make sure to exclude 'CustomerID' from the columns used for apriori\n",
        "df_encoded = df.drop('CustomerID', axis=1)\n",
        "frequent_itemsets = apriori(df_encoded, min_support=0.05, use_colnames=True)\n",
        "\n",
        "# Generate rules\n",
        "rules = association_rules(frequent_itemsets, metric='lift', min_threshold=1.2)\n",
        "\n",
        "# Sort rules by confidence\n",
        "rules = rules.sort_values('confidence', ascending=False)\n",
        "\n",
        "# Display the first few rules\n",
        "print(rules.head())"
      ]
    },
    {
      "cell_type": "markdown",
      "source": [
        "*3. Interpret top rules*"
      ],
      "metadata": {
        "id": "qUJ0bm_PFVoT"
      }
    },
    {
      "cell_type": "code",
      "source": [
        "# Display top 5 rules\n",
        "top_rules = rules.head(5)\n",
        "print(top_rules[['antecedents', 'consequents', 'support', 'confidence', 'lift']])\n"
      ],
      "metadata": {
        "id": "tuiwsLIjFbOO",
        "outputId": "25e423cd-a5f9-4270-cbb8-6d761eaeb4fb",
        "colab": {
          "base_uri": "https://localhost:8080/",
          "height": 0
        }
      },
      "execution_count": 17,
      "outputs": [
        {
          "output_type": "stream",
          "name": "stdout",
          "text": [
            "                       antecedents       consequents   support  confidence  \\\n",
            "14       (margarine, meat spreads)  (frozen dessert)  0.091882    0.874251   \n",
            "13  (frozen dessert, meat spreads)       (margarine)  0.091882    0.843931   \n",
            "12     (frozen dessert, margarine)    (meat spreads)  0.091882    0.834286   \n",
            "5                   (meat spreads)  (frozen dessert)  0.108874    0.569079   \n",
            "7                   (meat spreads)       (margarine)  0.105098    0.549342   \n",
            "\n",
            "        lift  \n",
            "14  3.764731  \n",
            "13  4.076005  \n",
            "12  4.360789  \n",
            "5   2.450587  \n",
            "7   2.653205  \n"
          ]
        }
      ]
    },
    {
      "cell_type": "markdown",
      "source": [
        "The data presents association rules derived from transaction data, showing how different products are related in purchase patterns. Here's an interpretation of each component:\n",
        "\n",
        "**Definitions:**\n",
        "- **Antecedents:** The initial set of products in the rule (the \"if\" part).\n",
        "- **Consequents:** The products that tend to be purchased together with the antecedents (the \"then\" part).\n",
        "- **Support:** The proportion of transactions that contain both antecedents and consequents. It indicates how frequently this combination occurs.\n",
        "- **Confidence:** The likelihood that a transaction containing the antecedents also contains the consequents.\n",
        "- **Lift:** Measures how much more often the antecedents and consequents occur together than if they were independent. A lift greater than 1 suggests a positive association.\n",
        "\n",
        "---\n",
        "\n",
        "### Detailed interpretation:\n",
        "\n",
        "1. **Rule 14:** _(margarine, meat spreads) → (frozen dessert)_\n",
        "   - **Support:** 9.19% of transactions include margarine, meat spreads, and a frozen dessert.\n",
        "   - **Confidence:** 87.43% of transactions with margarine and meat spreads also include a frozen dessert.\n",
        "   - **Lift:** 3.76, indicating these products are purchased together much more often than by chance. Customers buying margarine and meat spreads are highly likely to also buy frozen desserts.\n",
        "\n",
        "2. **Rule 13:** _(frozen dessert, meat spreads) → (margarine)_\n",
        "   - **Support:** 9.19% (same as above).\n",
        "   - **Confidence:** 84.39% of transactions with frozen dessert and meat spreads also include margarine.\n",
        "   - **Lift:** 4.08, showing a strong positive association—these three items are frequently purchased together.\n",
        "\n",
        "3. **Rule 12:** _(frozen dessert, margarine) → (meat spreads)_\n",
        "   - **Support:** 9.19%.\n",
        "   - **Confidence:** 83.43% of transactions with frozen dessert and margarine also include meat spreads.\n",
        "   - **Lift:** 4.36, indicating a very strong association among these three products.\n",
        "\n",
        "4. **Rule 5:** _(meat spreads) → (frozen dessert)_\n",
        "   - **Support:** 10.89%, slightly higher than the previous rules.\n",
        "   - **Confidence:** 56.91%, meaning just over half of transactions with meat spreads also include a frozen dessert.\n",
        "   - **Lift:** 2.45, showing a positive but weaker association compared to the previous rules.\n",
        "\n",
        "5. **Rule 7:** _(meat spreads) → (margarine)_\n",
        "   - **Support:** 10.51%.\n",
        "   - **Confidence:** 54.93%.\n",
        "   - **Lift:** 2.65, again indicating a positive association, but less strong than the rules involving frozen desserts.\n",
        "\n",
        "---\n",
        "\n",
        "### Summary:\n",
        "- The strongest associations are among margarine, meat spreads, and frozen desserts, especially when considering the lift values (>3.7), indicating these items are frequently purchased together.\n",
        "- Customers buying margarine and meat spreads are very likely to also buy frozen desserts.\n",
        "- While meat spreads alone are somewhat associated with frozen desserts and margarine, the confidence levels are lower, suggesting these are less tightly linked than the three-product combinations.\n",
        "\n",
        "**Implication:** Retailers might consider bundling or promotions involving these products to encourage combined purchases, especially focusing on the trio of margarine, meat spreads, and frozen desserts due to their strong association."
      ],
      "metadata": {
        "id": "XhF_TSESGjAf"
      }
    },
    {
      "cell_type": "markdown",
      "source": [
        "**Section C: Visualization and Interpretation**"
      ],
      "metadata": {
        "id": "WfKZSQkIHMFR"
      }
    },
    {
      "cell_type": "markdown",
      "source": [
        "*1. Graph for rules showing antecedents and consequents*"
      ],
      "metadata": {
        "id": "HjaGKSqzHXGj"
      }
    },
    {
      "cell_type": "code",
      "source": [
        "import matplotlib.pyplot as plt\n",
        "\n",
        "# Plotting support vs confidence\n",
        "plt.scatter(rules['support'], rules['confidence'], alpha=0.7)\n",
        "plt.xlabel('Support')\n",
        "plt.ylabel('Confidence')\n",
        "plt.title('Support vs Confidence for Association Rules')\n",
        "plt.show()\n"
      ],
      "metadata": {
        "id": "cVHtMoWRHSQB",
        "outputId": "e8b5acca-ba91-40f7-f65f-7d5deaa603d1",
        "colab": {
          "base_uri": "https://localhost:8080/",
          "height": 472
        }
      },
      "execution_count": 18,
      "outputs": [
        {
          "output_type": "display_data",
          "data": {
            "text/plain": [
              "<Figure size 640x480 with 1 Axes>"
            ],
            "image/png": "[encoded data removed]"
          },
          "metadata": {}
        }
      ]
    },
    {
      "cell_type": "markdown",
      "source": [
        "Interpreting the scatter plot of these association rules involves understanding how the different metrics relate to each other and what they reveal about the relationships between itemsets. Here's a detailed guide:\n",
        "\n",
        "1. **Axes and Data Points:**\n",
        "   - **Support (x-axis):** Indicates how frequently the antecedent-consequent pair appears in the dataset.\n",
        "   - **Confidence (y-axis):** Shows the strength of the rule; the probability that the consequent occurs given the antecedent.\n",
        "   - **Lift (possibly represented by point size or color):** Measures how much more likely the consequent is to occur with the antecedent compared to random chance. Lift > 1 suggests a positive association.\n",
        "\n",
        "2. **Key Observations:**\n",
        "   - All rules have similar support (~9.2% to 10.9%), meaning these itemsets appear with about that frequency.\n",
        "   - The confidence values are high (around 0.55 to 0.87), indicating that when the antecedent occurs, the consequent is quite likely.\n",
        "   - Lift values are notably greater than 1 (ranging from about 2.45 to 4.08), suggesting strong positive associations beyond random chance.\n",
        "\n",
        "3. **Interpreting the Rules:**\n",
        "   - **High Confidence & Lift:** The rules involving `(margarine, meat spreads)` leading to `(frozen dessert)` and vice versa have high confidence (~0.84 to 0.87) and high lift (~3.76 to 4.08). This indicates a strong, meaningful association; customers buying margarine and meat spreads are quite likely to also buy frozen desserts.\n",
        "   - **Support Consistency:** All rules share similar support, implying these item combinations are relatively common.\n",
        "\n",
        "4. **Insights from the Plot:**\n",
        "   - Rules with higher confidence and lift are more significant and potentially useful for marketing strategies.\n",
        "   - The plot can help identify which itemsets have the strongest associations (e.g., `(frozen dessert, meat spreads) -> margarine`).\n",
        "\n",
        "5. **Practical Use:**\n",
        "   - Focus on rules with high lift and confidence to target cross-promotions.\n",
        "   - Recognize that some itemsets are strongly associated, guiding product placement or bundling.\n",
        "\n",
        "**Summary:**\n",
        "The scatter plot visually highlights the strength and significance of various purchase associations. Rules with high support, confidence, and lift are the most meaningful, indicating strong purchasing patterns that can inform marketing or inventory decisions."
      ],
      "metadata": {
        "id": "wJYvMp9CMf0x"
      }
    },
    {
      "cell_type": "markdown",
      "source": [
        "*2. Network graph of most connected products*"
      ],
      "metadata": {
        "id": "4aoBP_K-IFcn"
      }
    },
    {
      "cell_type": "code",
      "source": [
        "import networkx as nx\n",
        "\n",
        "# Create graph\n",
        "G = nx.DiGraph()\n",
        "\n",
        "# Add edges for top rules\n",
        "for _, row in top_rules.iterrows():\n",
        "    for antecedent in row['antecedents']:\n",
        "        for consequent in row['consequents']:\n",
        "            G.add_edge(antecedent, consequent, weight=row['lift'])\n",
        "\n",
        "# Draw graph\n",
        "pos = nx.spring_layout(G, k=2)\n",
        "plt.figure(figsize=(10,8))\n",
        "nx.draw(G, pos, with_labels=True, node_size=2000, node_color='lightblue', font_size=12, font_weight='bold', arrows=True)\n",
        "labels = nx.get_edge_attributes(G,'weight')\n",
        "nx.draw_networkx_edge_labels(G, pos, edge_labels=labels)\n",
        "plt.title('Product Association Network')\n",
        "plt.show()\n"
      ],
      "metadata": {
        "id": "dJUwm5-3ILbi",
        "outputId": "68826eda-3e3c-4049-b3f7-c69a21731076",
        "colab": {
          "base_uri": "https://localhost:8080/",
          "height": 859
        }
      },
      "execution_count": 19,
      "outputs": [
        {
          "data": {
            "image/png": "[encoded data removed]",
            "text/plain": [
              "<Figure size 1000x800 with 1 Axes>"
            ]
          },
          "metadata": {},
          "output_type": "display_data"
        }
      ]
    },
    {
      "cell_type": "markdown",
      "source": [
        "Based on the provided association values between product pairs, here is a summary:\n",
        "\n",
        "1. Meat spreads and margarine: **2.6532**\n",
        "2. Margarine and frozen dessert: **4.0760**\n",
        "3. Meat spreads and frozen dessert: **2.4506**\n",
        "\n",
        "These values likely represent the strength of association or co-occurrence between each pair of products within the network. Higher values suggest a stronger association.\n",
        "\n",
        "**Insights:**\n",
        "- Margarine and frozen dessert have the strongest association among the three pairs.\n",
        "- Meat spreads are more closely associated with margarine than with frozen dessert.\n",
        "- The relatively lower association between meat spreads and frozen dessert indicates a weaker link compared to the other pairs.\n",
        "\n",
        "If you need further analysis or visualization suggestions based on these associations, feel free to ask!"
      ],
      "metadata": {
        "id": "qcIUqlOwI7yD"
      }
    },
    {
      "cell_type": "markdown",
      "source": [
        "**Section D: Marketing Strategy**"
      ],
      "metadata": {
        "id": "03K9bSRGMmy6"
      }
    },
    {
      "cell_type": "markdown",
      "source": [
        "1. Product Bundling:\n",
        "   - Bundle frozen desserts with margarine and meat spreads since these products show strong co-occurrence.\n",
        "   - Offer discounts or special packages for purchasing these items together to encourage cross-selling.\n",
        "\n",
        "2. Strategic Product Placement:\n",
        "   - Place margarine, meat spreads, and frozen desserts near each other in-store to facilitate easy discovery.\n",
        "   - Use signage to highlight popular combinations, e.g., \"Customers buying margarine also purchased frozen desserts.\"\n",
        "\n",
        "3. Promotions & Incentives:\n",
        "   - Create targeted promotions such as \"Buy margarine and meat spreads, get 20% off on frozen desserts.\"\n",
        "   - Offer loyalty points or coupons for customers who purchase these combinations frequently.\n",
        "\n",
        "4. In-store Sampling & Displays:\n",
        "   - Set up tasting stations featuring these products together to stimulate interest.\n",
        "   - Use shelf talkers that suggest pairing options.\n",
        "\n",
        "5. Cross-Category Marketing:\n",
        "   - Use personalized emails or app notifications highlighting these product combos.\n",
        "   - Recommend bundles during checkout or in digital shopping carts.\n",
        "\n",
        "6. Seasonal Campaigns:\n",
        "   - Promote frozen desserts during summer months alongside other relevant items like spreads and margarine.\n"
      ],
      "metadata": {
        "id": "30eFCB-WMzxB"
      }
    },
    {
      "cell_type": "markdown",
      "source": [
        "**Section E: Latent Class Analysis (LCA)**"
      ],
      "metadata": {
        "id": "ZGIOcWnHNJGe"
      }
    },
    {
      "cell_type": "markdown",
      "source": [
        "*Objective: Identify customer segments based on their purchasing patterns, focusing on products involved in the top association rules.*"
      ],
      "metadata": {
        "id": "Trkhf34cNQ5c"
      }
    },
    {
      "cell_type": "code",
      "source": [
        "import pandas as pd\n",
        "import numpy as np\n",
        "from sklearn.cluster import KMeans\n",
        "from sklearn.preprocessing import StandardScaler\n",
        "\n",
        "# Assume you have the original dataframe loaded as 'df' with CustomerID and product columns\n",
        "\n",
        "# Step 1: Select products involved in top rules\n",
        "products_of_interest = [\n",
        "    'margarine', 'meat spreads', 'frozen dessert'\n",
        "]\n",
        "\n",
        "# Step 2: Create subset dataset with CustomerID and these products\n",
        "lca_df = df[['CustomerID'] + products_of_interest].copy()\n",
        "\n",
        "# Step 3: Convert True/False to numeric codes\n",
        "for product in products_of_interest:\n",
        "    lca_df[product] = lca_df[product].astype(int)\n",
        "\n",
        "# Step 4: Prepare data for clustering\n",
        "X = lca_df[products_of_interest].values\n",
        "\n",
        "# Optional: Standardize data (not always necessary for binary data, but can help)\n",
        "scaler = StandardScaler()\n",
        "X_scaled = scaler.fit_transform(X)\n",
        "\n",
        "# Step 5: Determine 4 clusters (latent classes)\n",
        "kmeans = KMeans(n_clusters=4, random_state=42)\n",
        "lca_df['Segment'] = kmeans.fit_predict(X_scaled)\n",
        "\n",
        "# Step 6: Analyze each segment\n",
        "segment_summary = lca_df.groupby('Segment')[products_of_interest].mean()\n",
        "\n",
        "# Step 7: Calculate segment sizes\n",
        "segment_sizes = lca_df['Segment'].value_counts().sort_index()\n",
        "\n",
        "# -------------- Output Results ------------------\n",
        "\n",
        "print(\"Customer Segments and Purchase Probabilities:\\n\")\n",
        "print(segment_summary)\n",
        "\n",
        "print(\"\\nSegment Sizes:\\n\")\n",
        "print(segment_sizes)\n",
        "\n",
        "# Optional: Map cluster labels to descriptive segments\n",
        "# For example, based on purchase probabilities:\n",
        "def describe_segment(row):\n",
        "    description = []\n",
        "    for product in products_of_interest:\n",
        "        prob = row[product]\n",
        "        if prob > 0.75:\n",
        "            description.append(f\"High purchase of {product}\")\n",
        "        elif prob > 0.25:\n",
        "            description.append(f\"Moderate purchase of {product}\")\n",
        "        else:\n",
        "            description.append(f\"Low purchase of {product}\")\n",
        "    return ', '.join(description)\n",
        "\n",
        "segment_descriptions = segment_summary.apply(describe_segment, axis=1)\n",
        "print(\"\\nSegment Descriptions:\\n\")\n",
        "for idx, desc in segment_descriptions.items():\n",
        "    print(f\"Segment {idx}: {desc}\")\n"
      ],
      "metadata": {
        "id": "j0AFzQq_Mppb",
        "outputId": "293e7870-33ce-4fcf-b3d6-3fa8a60854d3",
        "colab": {
          "base_uri": "https://localhost:8080/",
          "height": 0
        }
      },
      "execution_count": 21,
      "outputs": [
        {
          "output_type": "stream",
          "name": "stdout",
          "text": [
            "Customer Segments and Purchase Probabilities:\n",
            "\n",
            "         margarine  meat spreads  frozen dessert\n",
            "Segment                                         \n",
            "0         0.000000           1.0        0.197080\n",
            "1         0.122130           0.0        0.000000\n",
            "2         1.000000           1.0        0.874251\n",
            "3         0.147959           0.0        1.000000\n",
            "\n",
            "Segment Sizes:\n",
            "\n",
            "Segment\n",
            "0     137\n",
            "1    1089\n",
            "2     167\n",
            "3     196\n",
            "Name: count, dtype: int64\n",
            "\n",
            "Segment Descriptions:\n",
            "\n",
            "Segment 0: Low purchase of margarine, High purchase of meat spreads, Low purchase of frozen dessert\n",
            "Segment 1: Low purchase of margarine, Low purchase of meat spreads, Low purchase of frozen dessert\n",
            "Segment 2: High purchase of margarine, High purchase of meat spreads, High purchase of frozen dessert\n",
            "Segment 3: Low purchase of margarine, Low purchase of meat spreads, High purchase of frozen dessert\n"
          ]
        }
      ]
    },
    {
      "cell_type": "markdown",
      "source": [
        "Based on the data provided, here's a comprehensive interpretation of the customer segments and their purchasing behaviors:\n",
        "\n",
        "**Customer Segments Overview:**\n",
        "There are four distinct customer segments characterized by their probability of purchasing three product types: margarine, meat spreads, and frozen dessert.\n",
        "\n",
        "---\n",
        "\n",
        "### Segment 0\n",
        "- **Size:** 137 customers\n",
        "- **Purchase Probabilities:**\n",
        "  - Margarine: 0.0 (rarely purchased)\n",
        "  - Meat spreads: 1.0 (always purchased)\n",
        "  - Frozen dessert: ~19.7% chance\n",
        "- **Description:** Customers in this segment rarely buy margarine, consistently buy meat spreads, and have a low to moderate chance of purchasing frozen desserts.\n",
        "\n",
        "---\n",
        "\n",
        "### Segment 1\n",
        "- **Size:** 1,089 customers\n",
        "- **Purchase Probabilities:**\n",
        "  - Margarine: ~12.2%\n",
        "  - Meat spreads: 0.0\n",
        "  - Frozen dessert: 0.0\n",
        "- **Description:** These customers infrequently buy margarine but do not purchase meat spreads or frozen desserts. They could be occasional margarine buyers.\n",
        "\n",
        "---\n",
        "\n",
        "### Segment 2\n",
        "- **Size:** 167 customers\n",
        "- **Purchase Probabilities:**\n",
        "  - Margarine: 100%\n",
        "  - Meat spreads: 100%\n",
        "  - Frozen dessert: ~87.4%\n",
        "- **Description:** The most engaged segment across all products, regularly purchasing margarine, meat spreads, and frozen desserts. These are likely the most active or loyal customers.\n",
        "\n",
        "---\n",
        "\n",
        "### Segment 3\n",
        "- **Size:** 196 customers\n",
        "- **Purchase Probabilities:**\n",
        "  - Margarine: ~14.8%\n",
        "  - Meat spreads: 0.0\n",
        "  - Frozen dessert: 100%\n",
        "- **Description:** Customers rarely buy margarine, do not purchase meat spreads, but frequently buy frozen desserts. This segment might prefer frozen desserts over other products.\n",
        "\n",
        "---\n",
        "\n",
        "### **Overall Insights:**\n",
        "- The largest segment (Segment 1) consists of customers with minimal purchasing activity.\n",
        "- The smallest segment (Segment 2) represents highly engaged customers across all product categories.\n",
        "- Segments 0 and 3 indicate specialized purchasing patterns, with Segment 0 focused on meat spreads, and Segment 3 on frozen desserts.\n",
        "\n",
        "### **Business Implications:**\n",
        "- **Targeted Marketing:** Promotions can be tailored based on segment behaviors:\n",
        "  - For Segment 2, offer bundled deals across all products.\n",
        "  - For Segment 3, focus on frozen dessert promotions.\n",
        "  - For Segment 0, reinforce meat spreads offerings.\n",
        "- **Customer Engagement:** Identifying and nurturing high-value segments (like Segment 2) could improve overall sales.\n",
        "- **Product Development:** Understanding why certain segments rarely purchase specific items can guide product placement or new product offerings.\n",
        "\n",
        "---\n",
        "\n",
        "If you need further analysis or actionable strategies based on this segmentation, feel free to ask!"
      ],
      "metadata": {
        "id": "I9Z6oXfNOol2"
      }
    },
    {
      "cell_type": "code",
      "source": [],
      "metadata": {
        "id": "mmFnczbJO3VT"
      },
      "execution_count": null,
      "outputs": []
    }
  ],
  "metadata": {
    "colab": {
      "provenance": []
    },
    "kernelspec": {
      "display_name": "Python 3",
      "name": "python3"
    },
    "language_info": {
      "name": "python"
    }
  },
  "nbformat": 4,
  "nbformat_minor": 0
}